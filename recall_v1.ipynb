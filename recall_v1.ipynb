{
 "cells": [
  {
   "cell_type": "code",
   "execution_count": 1,
   "metadata": {
    "ExecuteTime": {
     "end_time": "2020-04-15T02:34:08.531754Z",
     "start_time": "2020-04-15T02:34:08.170483Z"
    }
   },
   "outputs": [],
   "source": [
    "import pandas as pd\n",
    "from tqdm import tqdm\n",
    "from annoy import AnnoyIndex\n",
    "import os\n",
    "from joblib import Parallel, delayed"
   ]
  },
  {
   "cell_type": "code",
   "execution_count": 2,
   "metadata": {
    "ExecuteTime": {
     "end_time": "2020-04-15T02:34:08.535723Z",
     "start_time": "2020-04-15T02:34:08.533604Z"
    }
   },
   "outputs": [],
   "source": [
    "current_phase = 1"
   ]
  },
  {
   "cell_type": "code",
   "execution_count": 3,
   "metadata": {
    "ExecuteTime": {
     "end_time": "2020-04-15T02:34:09.000855Z",
     "start_time": "2020-04-15T02:34:08.537079Z"
    },
    "scrolled": true
   },
   "outputs": [
    {
     "name": "stderr",
     "output_type": "stream",
     "text": [
      "100%|██████████| 2/2 [00:00<00:00,  4.41it/s]\n"
     ]
    }
   ],
   "source": [
    "train_qtime_list = []\n",
    "train_history_list = []\n",
    "\n",
    "test_qtime_list = []\n",
    "test_history_list = []\n",
    "\n",
    "for i in tqdm(range(current_phase+1)):\n",
    "    # 处理train\n",
    "    df_click_train = pd.read_csv(\n",
    "        'raw_data/underexpose_train/underexpose_train_click-{}.csv'.format(i), header=None)\n",
    "    df_click_train.columns = ['user_id', 'item_id', 'time']\n",
    "    df_click_train['phase'] = i\n",
    "    df_click_train.sort_values(['user_id', 'time'], inplace=True)\n",
    "    df_click_train['index'] = df_click_train.index\n",
    "\n",
    "    df_qtime_train = df_click_train.groupby(['user_id']).last().reset_index()\n",
    "    df_qtime_train.rename(columns={'time': 'query_time'}, inplace=True)\n",
    "    df_history_train = df_click_train[~(\n",
    "        df_click_train['index'].isin(df_qtime_train['index'].values.tolist()))]\n",
    "\n",
    "    del df_history_train['index']\n",
    "    del df_qtime_train['index']\n",
    "    train_history_list.append(df_history_train)\n",
    "    train_qtime_list.append(df_qtime_train)\n",
    "\n",
    "    df_click_test = pd.read_csv(\n",
    "        'raw_data/underexpose_test/underexpose_test_click-{}/underexpose_test_click-{}.csv'.format(i, i), header=None)\n",
    "    df_click_test.columns = ['user_id', 'item_id', 'time']\n",
    "    df_click_test['phase'] = i\n",
    "    df_click_test.sort_values(['user_id', 'time'], inplace=True)\n",
    "\n",
    "    df_qtime_test = pd.read_csv(\n",
    "        'raw_data/underexpose_test/underexpose_test_click-{}/underexpose_test_qtime-{}.csv'.format(i, i), header=None)\n",
    "    df_qtime_test.columns = ['user_id', 'query_time']\n",
    "    df_qtime_test['phase'] = i\n",
    "    df_qtime_test['item_id'] = -1\n",
    "\n",
    "    test_history_list.append(df_click_test)\n",
    "    test_qtime_list.append(df_qtime_test)"
   ]
  },
  {
   "cell_type": "code",
   "execution_count": 4,
   "metadata": {
    "ExecuteTime": {
     "end_time": "2020-04-15T02:34:09.026109Z",
     "start_time": "2020-04-15T02:34:09.003617Z"
    }
   },
   "outputs": [],
   "source": [
    "df_train_history = pd.concat(train_history_list, sort=False)\n",
    "df_train_qtime = pd.concat(train_qtime_list, sort=False)\n",
    "df_train_qtime = df_train_qtime[['user_id', 'item_id', 'phase', 'query_time']]\n",
    "\n",
    "df_test_history = pd.concat(test_history_list, sort=False)\n",
    "df_test_qtime = pd.concat(test_qtime_list, sort=False)\n",
    "df_test_qtime = df_train_qtime[['user_id', 'item_id', 'phase', 'query_time']]"
   ]
  },
  {
   "cell_type": "code",
   "execution_count": 5,
   "metadata": {
    "ExecuteTime": {
     "end_time": "2020-04-15T02:34:13.854324Z",
     "start_time": "2020-04-15T02:34:09.027514Z"
    }
   },
   "outputs": [
    {
     "name": "stdout",
     "output_type": "stream",
     "text": [
      "(108916, 257)\n",
      "(108916, 257)\n"
     ]
    },
    {
     "data": {
      "text/html": [
       "<div>\n",
       "<style scoped>\n",
       "    .dataframe tbody tr th:only-of-type {\n",
       "        vertical-align: middle;\n",
       "    }\n",
       "\n",
       "    .dataframe tbody tr th {\n",
       "        vertical-align: top;\n",
       "    }\n",
       "\n",
       "    .dataframe thead th {\n",
       "        text-align: right;\n",
       "    }\n",
       "</style>\n",
       "<table border=\"1\" class=\"dataframe\">\n",
       "  <thead>\n",
       "    <tr style=\"text-align: right;\">\n",
       "      <th></th>\n",
       "      <th>item_id</th>\n",
       "      <th>txt_vec0</th>\n",
       "      <th>txt_vec1</th>\n",
       "      <th>txt_vec2</th>\n",
       "      <th>txt_vec3</th>\n",
       "      <th>txt_vec4</th>\n",
       "      <th>txt_vec5</th>\n",
       "      <th>txt_vec6</th>\n",
       "      <th>txt_vec7</th>\n",
       "      <th>txt_vec8</th>\n",
       "      <th>...</th>\n",
       "      <th>img_vec118</th>\n",
       "      <th>img_vec119</th>\n",
       "      <th>img_vec120</th>\n",
       "      <th>img_vec121</th>\n",
       "      <th>img_vec122</th>\n",
       "      <th>img_vec123</th>\n",
       "      <th>img_vec124</th>\n",
       "      <th>img_vec125</th>\n",
       "      <th>img_vec126</th>\n",
       "      <th>img_vec127</th>\n",
       "    </tr>\n",
       "  </thead>\n",
       "  <tbody>\n",
       "    <tr>\n",
       "      <th>0</th>\n",
       "      <td>42844</td>\n",
       "      <td>4.514945</td>\n",
       "      <td>-2.383720</td>\n",
       "      <td>0.500414</td>\n",
       "      <td>0.407068</td>\n",
       "      <td>-1.995229</td>\n",
       "      <td>0.109078</td>\n",
       "      <td>-0.691775</td>\n",
       "      <td>2.227460</td>\n",
       "      <td>-6.437974</td>\n",
       "      <td>...</td>\n",
       "      <td>-3.374727</td>\n",
       "      <td>-1.506969</td>\n",
       "      <td>-1.820180</td>\n",
       "      <td>-3.024644</td>\n",
       "      <td>0.445263</td>\n",
       "      <td>0.013933</td>\n",
       "      <td>-1.300239</td>\n",
       "      <td>2.759948</td>\n",
       "      <td>2.056171</td>\n",
       "      <td>0.508703</td>\n",
       "    </tr>\n",
       "    <tr>\n",
       "      <th>1</th>\n",
       "      <td>67898</td>\n",
       "      <td>-2.002905</td>\n",
       "      <td>-0.929881</td>\n",
       "      <td>0.790017</td>\n",
       "      <td>-1.380895</td>\n",
       "      <td>-0.510463</td>\n",
       "      <td>-1.810096</td>\n",
       "      <td>1.363962</td>\n",
       "      <td>0.497401</td>\n",
       "      <td>-4.038903</td>\n",
       "      <td>...</td>\n",
       "      <td>-0.538330</td>\n",
       "      <td>-2.620164</td>\n",
       "      <td>1.277195</td>\n",
       "      <td>0.601015</td>\n",
       "      <td>-0.345312</td>\n",
       "      <td>0.993457</td>\n",
       "      <td>1.351633</td>\n",
       "      <td>2.162675</td>\n",
       "      <td>2.768597</td>\n",
       "      <td>-0.937197</td>\n",
       "    </tr>\n",
       "    <tr>\n",
       "      <th>2</th>\n",
       "      <td>66446</td>\n",
       "      <td>4.221673</td>\n",
       "      <td>-1.497139</td>\n",
       "      <td>1.133570</td>\n",
       "      <td>-2.745607</td>\n",
       "      <td>-4.197045</td>\n",
       "      <td>-0.542392</td>\n",
       "      <td>-1.396256</td>\n",
       "      <td>1.838419</td>\n",
       "      <td>-6.066454</td>\n",
       "      <td>...</td>\n",
       "      <td>-4.582711</td>\n",
       "      <td>-1.056910</td>\n",
       "      <td>-2.568084</td>\n",
       "      <td>-2.038061</td>\n",
       "      <td>2.508719</td>\n",
       "      <td>-0.764789</td>\n",
       "      <td>-0.657116</td>\n",
       "      <td>3.252782</td>\n",
       "      <td>2.687366</td>\n",
       "      <td>0.844332</td>\n",
       "    </tr>\n",
       "    <tr>\n",
       "      <th>3</th>\n",
       "      <td>63651</td>\n",
       "      <td>2.657970</td>\n",
       "      <td>-0.941863</td>\n",
       "      <td>1.121529</td>\n",
       "      <td>-5.109496</td>\n",
       "      <td>-0.279041</td>\n",
       "      <td>-0.351968</td>\n",
       "      <td>-1.086983</td>\n",
       "      <td>2.703607</td>\n",
       "      <td>-6.494977</td>\n",
       "      <td>...</td>\n",
       "      <td>-0.487683</td>\n",
       "      <td>-1.889119</td>\n",
       "      <td>0.943015</td>\n",
       "      <td>-2.834418</td>\n",
       "      <td>1.633184</td>\n",
       "      <td>2.001801</td>\n",
       "      <td>-2.333152</td>\n",
       "      <td>2.645595</td>\n",
       "      <td>2.280233</td>\n",
       "      <td>-0.694448</td>\n",
       "    </tr>\n",
       "    <tr>\n",
       "      <th>4</th>\n",
       "      <td>46824</td>\n",
       "      <td>3.192195</td>\n",
       "      <td>-1.936676</td>\n",
       "      <td>1.199909</td>\n",
       "      <td>-2.562152</td>\n",
       "      <td>-2.573456</td>\n",
       "      <td>0.575841</td>\n",
       "      <td>-2.358653</td>\n",
       "      <td>1.620844</td>\n",
       "      <td>-4.302936</td>\n",
       "      <td>...</td>\n",
       "      <td>-0.621475</td>\n",
       "      <td>-2.091410</td>\n",
       "      <td>0.501600</td>\n",
       "      <td>-3.083864</td>\n",
       "      <td>-1.060091</td>\n",
       "      <td>2.053600</td>\n",
       "      <td>-2.025008</td>\n",
       "      <td>2.399251</td>\n",
       "      <td>2.562317</td>\n",
       "      <td>0.694134</td>\n",
       "    </tr>\n",
       "  </tbody>\n",
       "</table>\n",
       "<p>5 rows × 257 columns</p>\n",
       "</div>"
      ],
      "text/plain": [
       "   item_id  txt_vec0  txt_vec1  txt_vec2  txt_vec3  txt_vec4  txt_vec5  \\\n",
       "0    42844  4.514945 -2.383720  0.500414  0.407068 -1.995229  0.109078   \n",
       "1    67898 -2.002905 -0.929881  0.790017 -1.380895 -0.510463 -1.810096   \n",
       "2    66446  4.221673 -1.497139  1.133570 -2.745607 -4.197045 -0.542392   \n",
       "3    63651  2.657970 -0.941863  1.121529 -5.109496 -0.279041 -0.351968   \n",
       "4    46824  3.192195 -1.936676  1.199909 -2.562152 -2.573456  0.575841   \n",
       "\n",
       "   txt_vec6  txt_vec7  txt_vec8  ...  img_vec118  img_vec119  img_vec120  \\\n",
       "0 -0.691775  2.227460 -6.437974  ...   -3.374727   -1.506969   -1.820180   \n",
       "1  1.363962  0.497401 -4.038903  ...   -0.538330   -2.620164    1.277195   \n",
       "2 -1.396256  1.838419 -6.066454  ...   -4.582711   -1.056910   -2.568084   \n",
       "3 -1.086983  2.703607 -6.494977  ...   -0.487683   -1.889119    0.943015   \n",
       "4 -2.358653  1.620844 -4.302936  ...   -0.621475   -2.091410    0.501600   \n",
       "\n",
       "   img_vec121  img_vec122  img_vec123  img_vec124  img_vec125  img_vec126  \\\n",
       "0   -3.024644    0.445263    0.013933   -1.300239    2.759948    2.056171   \n",
       "1    0.601015   -0.345312    0.993457    1.351633    2.162675    2.768597   \n",
       "2   -2.038061    2.508719   -0.764789   -0.657116    3.252782    2.687366   \n",
       "3   -2.834418    1.633184    2.001801   -2.333152    2.645595    2.280233   \n",
       "4   -3.083864   -1.060091    2.053600   -2.025008    2.399251    2.562317   \n",
       "\n",
       "   img_vec127  \n",
       "0    0.508703  \n",
       "1   -0.937197  \n",
       "2    0.844332  \n",
       "3   -0.694448  \n",
       "4    0.694134  \n",
       "\n",
       "[5 rows x 257 columns]"
      ]
     },
     "execution_count": 5,
     "metadata": {},
     "output_type": "execute_result"
    }
   ],
   "source": [
    "# 计算商品之间相似性\n",
    "df_item = pd.read_csv(\n",
    "    'raw_data/underexpose_train/underexpose_item_feat.csv', header=None)\n",
    "df_item.columns = ['item_id'] + ['txt_vec' +\n",
    "                                 str(i) for i in range(128)] + ['img_vec'+str(i) for i in range(128)]\n",
    "df_item['txt_vec0'] = df_item['txt_vec0'].apply(lambda x: float(x[1:]))\n",
    "df_item['txt_vec127'] = df_item['txt_vec127'].apply(\n",
    "    lambda x: float(x[:-1]))\n",
    "df_item['img_vec0'] = df_item['img_vec0'].apply(lambda x: float(x[1:]))\n",
    "df_item['img_vec127'] = df_item['img_vec127'].apply(\n",
    "    lambda x: float(x[:-1]))\n",
    "print(df_item.shape)\n",
    "df_item.drop_duplicates(['item_id'], inplace=True)\n",
    "print(df_item.shape)\n",
    "df_item.head()"
   ]
  },
  {
   "cell_type": "code",
   "execution_count": 6,
   "metadata": {
    "ExecuteTime": {
     "end_time": "2020-04-15T02:34:13.862407Z",
     "start_time": "2020-04-15T02:34:13.855736Z"
    },
    "scrolled": true
   },
   "outputs": [],
   "source": [
    "def get_index(name):\n",
    "    index_to_item_dict = {}\n",
    "    item_to_index_dict = {}\n",
    "\n",
    "    if os.path.exists('models/{}.ann'.format(name)):\n",
    "        u = AnnoyIndex(128, 'angular')\n",
    "        u.load('models/{}.ann'.format(name))\n",
    "\n",
    "        f = open('models/index_to_item_dict_{}.dict'.format(name), 'r')\n",
    "        a = f.read()\n",
    "        index_to_item_dict = eval(a)\n",
    "        f.close()\n",
    "\n",
    "        f = open('models/item_to_index_dict_{}.dict'.format(name), 'r')\n",
    "        a = f.read()\n",
    "        item_to_index_dict = eval(a)\n",
    "        f.close()\n",
    "\n",
    "        return u, index_to_item_dict, item_to_index_dict\n",
    "\n",
    "    else:\n",
    "        t = AnnoyIndex(128, 'angular')\n",
    "        t.set_seed(2020)\n",
    "\n",
    "        for i, row in tqdm(df_item.iterrows()):\n",
    "            if name == 'txt':\n",
    "                emb = row[-128-128: -128].values\n",
    "            else:\n",
    "                emb = row[-128:].values\n",
    "\n",
    "            item = row[0]\n",
    "            index_to_item_dict[i] = item\n",
    "            item_to_index_dict[item] = i\n",
    "\n",
    "            t.add_item(i, emb)\n",
    "\n",
    "        t.build(100)\n",
    "\n",
    "        f = open('models/index_to_item_dict_{}.dict'.format(name), 'w')\n",
    "        f.write(str(index_to_item_dict))\n",
    "        f.close()\n",
    "\n",
    "        f = open('models/item_to_index_dict_{}.dict'.format(name), 'w')\n",
    "        f.write(str(item_to_index_dict))\n",
    "        f.close()\n",
    "\n",
    "        t.save('models/{}.ann'.format(name))\n",
    "\n",
    "        return t, index_to_item_dict, item_to_index_dict"
   ]
  },
  {
   "cell_type": "code",
   "execution_count": 9,
   "metadata": {
    "ExecuteTime": {
     "end_time": "2020-04-15T02:35:28.472291Z",
     "start_time": "2020-04-15T02:35:28.461645Z"
    }
   },
   "outputs": [],
   "source": [
    "def recall(history_items, user_id, item_id, phase, query_time, t, index_to_item_dict, item_to_index_dict):\n",
    "    df_temp = pd.DataFrame()\n",
    "    item_ids = []\n",
    "    item_sim_scores = []\n",
    "\n",
    "    for history_item in history_items:\n",
    "        if history_item in item_to_index_dict:\n",
    "            ids, scores = t.get_nns_by_item(\n",
    "                item_to_index_dict[history_item], 10, include_distances=True)\n",
    "\n",
    "            item_ids += [index_to_item_dict[id] for id in ids]\n",
    "            item_sim_scores += scores\n",
    "\n",
    "    df_temp['item_id'] = item_ids\n",
    "    df_temp['sim_score'] = item_sim_scores\n",
    "\n",
    "    df_temp.sort_values(['sim_score'], inplace=True, ascending=False)\n",
    "    df_temp.drop_duplicates(['item_id'], inplace=True)\n",
    "    df_temp = df_temp.head(300)\n",
    "\n",
    "    df_temp['user_id'] = user_id\n",
    "    df_temp['query_time'] = query_time\n",
    "    df_temp['phase'] = phase\n",
    "    df_temp['label'] = 0\n",
    "    df_temp.loc[df_temp['item_id'] == item_id, 'label'] = 1\n",
    "\n",
    "    del df_temp['sim_score']\n",
    "\n",
    "    return df_temp"
   ]
  },
  {
   "cell_type": "code",
   "execution_count": 10,
   "metadata": {
    "ExecuteTime": {
     "end_time": "2020-04-15T02:42:31.619574Z",
     "start_time": "2020-04-15T02:35:28.950724Z"
    },
    "scrolled": true
   },
   "outputs": [
    {
     "name": "stderr",
     "output_type": "stream",
     "text": [
      "100%|██████████| 33788/33788 [06:57<00:00, 80.91it/s]\n"
     ]
    }
   ],
   "source": [
    "train_data_txt_list = []\n",
    "index, index_to_item_dict, item_to_index_dict = get_index('txt')\n",
    "\n",
    "for user_id, item_id, phase, query_time in tqdm(df_train_qtime.values):\n",
    "    a = recall(df_train_history[df_train_history['user_id'] == user_id]\n",
    "               ['item_id'].values.tolist(), user_id, item_id, phase, query_time, index, index_to_item_dict, item_to_index_dict)\n",
    "    train_data_txt_list.append(a)\n",
    "\n",
    "train_data_txt = pd.concat(train_data_txt_list)"
   ]
  },
  {
   "cell_type": "code",
   "execution_count": 11,
   "metadata": {
    "ExecuteTime": {
     "end_time": "2020-04-15T02:42:43.348937Z",
     "start_time": "2020-04-15T02:42:43.287969Z"
    }
   },
   "outputs": [
    {
     "data": {
      "text/plain": [
       "0    4282371\n",
       "1       8025\n",
       "Name: label, dtype: int64"
      ]
     },
     "execution_count": 11,
     "metadata": {},
     "output_type": "execute_result"
    }
   ],
   "source": [
    "train_data_txt['label'].value_counts()"
   ]
  },
  {
   "cell_type": "code",
   "execution_count": 17,
   "metadata": {
    "ExecuteTime": {
     "end_time": "2020-04-15T02:55:51.702491Z",
     "start_time": "2020-04-15T02:48:04.462823Z"
    }
   },
   "outputs": [
    {
     "name": "stderr",
     "output_type": "stream",
     "text": [
      "108916it [00:21, 5053.62it/s]\n",
      "100%|██████████| 33788/33788 [07:02<00:00, 79.95it/s]\n"
     ]
    }
   ],
   "source": [
    "train_data_img_list = []\n",
    "index, index_to_item_dict, item_to_index_dict = get_index('img')\n",
    "\n",
    "for user_id, item_id, phase, query_time in tqdm(df_train_qtime.values):\n",
    "    a = recall(df_train_history[df_train_history['user_id'] == user_id]\n",
    "               ['item_id'].values.tolist(), user_id, item_id, phase, query_time, index, index_to_item_dict, item_to_index_dict)\n",
    "    train_data_img_list.append(a)\n",
    "\n",
    "train_data_img = pd.concat(train_data_img_list)"
   ]
  },
  {
   "cell_type": "code",
   "execution_count": 20,
   "metadata": {
    "ExecuteTime": {
     "end_time": "2020-04-15T02:57:10.205490Z",
     "start_time": "2020-04-15T02:57:10.027278Z"
    }
   },
   "outputs": [],
   "source": [
    "train_data = pd.concat([train_data_txt, train_data_img], sort=False)"
   ]
  },
  {
   "cell_type": "code",
   "execution_count": 25,
   "metadata": {
    "ExecuteTime": {
     "end_time": "2020-04-15T02:59:24.270999Z",
     "start_time": "2020-04-15T02:59:22.685091Z"
    }
   },
   "outputs": [
    {
     "name": "stdout",
     "output_type": "stream",
     "text": [
      "(8679293, 5)\n",
      "0    8055458\n",
      "1       8429\n",
      "Name: label, dtype: int64\n",
      "(8063887, 5)\n"
     ]
    }
   ],
   "source": [
    "print(train_data.shape)\n",
    "train_data_tmp = train_data.drop_duplicates(['user_id', 'item_id', 'phase'])\n",
    "print(train_data_tmp['label'].value_counts())\n",
    "print(train_data_tmp.shape)"
   ]
  },
  {
   "cell_type": "code",
   "execution_count": 27,
   "metadata": {
    "ExecuteTime": {
     "end_time": "2020-04-15T03:00:02.025295Z",
     "start_time": "2020-04-15T03:00:02.009018Z"
    }
   },
   "outputs": [
    {
     "data": {
      "text/html": [
       "<div>\n",
       "<style scoped>\n",
       "    .dataframe tbody tr th:only-of-type {\n",
       "        vertical-align: middle;\n",
       "    }\n",
       "\n",
       "    .dataframe tbody tr th {\n",
       "        vertical-align: top;\n",
       "    }\n",
       "\n",
       "    .dataframe thead th {\n",
       "        text-align: right;\n",
       "    }\n",
       "</style>\n",
       "<table border=\"1\" class=\"dataframe\">\n",
       "  <thead>\n",
       "    <tr style=\"text-align: right;\">\n",
       "      <th></th>\n",
       "      <th>item_id</th>\n",
       "      <th>user_id</th>\n",
       "      <th>query_time</th>\n",
       "      <th>phase</th>\n",
       "      <th>label</th>\n",
       "    </tr>\n",
       "  </thead>\n",
       "  <tbody>\n",
       "    <tr>\n",
       "      <th>19</th>\n",
       "      <td>13294.0</td>\n",
       "      <td>1.0</td>\n",
       "      <td>0.983942</td>\n",
       "      <td>0.0</td>\n",
       "      <td>0</td>\n",
       "    </tr>\n",
       "    <tr>\n",
       "      <th>39</th>\n",
       "      <td>48983.0</td>\n",
       "      <td>1.0</td>\n",
       "      <td>0.983942</td>\n",
       "      <td>0.0</td>\n",
       "      <td>0</td>\n",
       "    </tr>\n",
       "    <tr>\n",
       "      <th>18</th>\n",
       "      <td>1212.0</td>\n",
       "      <td>1.0</td>\n",
       "      <td>0.983942</td>\n",
       "      <td>0.0</td>\n",
       "      <td>0</td>\n",
       "    </tr>\n",
       "    <tr>\n",
       "      <th>38</th>\n",
       "      <td>77528.0</td>\n",
       "      <td>1.0</td>\n",
       "      <td>0.983942</td>\n",
       "      <td>0.0</td>\n",
       "      <td>0</td>\n",
       "    </tr>\n",
       "    <tr>\n",
       "      <th>17</th>\n",
       "      <td>5228.0</td>\n",
       "      <td>1.0</td>\n",
       "      <td>0.983942</td>\n",
       "      <td>0.0</td>\n",
       "      <td>0</td>\n",
       "    </tr>\n",
       "  </tbody>\n",
       "</table>\n",
       "</div>"
      ],
      "text/plain": [
       "    item_id  user_id  query_time  phase  label\n",
       "19  13294.0      1.0    0.983942    0.0      0\n",
       "39  48983.0      1.0    0.983942    0.0      0\n",
       "18   1212.0      1.0    0.983942    0.0      0\n",
       "38  77528.0      1.0    0.983942    0.0      0\n",
       "17   5228.0      1.0    0.983942    0.0      0"
      ]
     },
     "execution_count": 27,
     "metadata": {},
     "output_type": "execute_result"
    }
   ],
   "source": [
    "train_data_tmp.head()"
   ]
  },
  {
   "cell_type": "code",
   "execution_count": 28,
   "metadata": {
    "ExecuteTime": {
     "end_time": "2020-04-15T03:00:38.615006Z",
     "start_time": "2020-04-15T03:00:26.950758Z"
    }
   },
   "outputs": [
    {
     "data": {
      "text/plain": [
       "33741"
      ]
     },
     "execution_count": 28,
     "metadata": {},
     "output_type": "execute_result"
    }
   ],
   "source": [
    "len(train_data_tmp.groupby(['user_id', 'phase']))"
   ]
  },
  {
   "cell_type": "code",
   "execution_count": 29,
   "metadata": {
    "ExecuteTime": {
     "end_time": "2020-04-15T03:00:46.823199Z",
     "start_time": "2020-04-15T03:00:46.817017Z"
    }
   },
   "outputs": [
    {
     "data": {
      "text/plain": [
       "0.24981476541892653"
      ]
     },
     "execution_count": 29,
     "metadata": {},
     "output_type": "execute_result"
    }
   ],
   "source": [
    "8429 / 33741"
   ]
  },
  {
   "cell_type": "code",
   "execution_count": 30,
   "metadata": {
    "ExecuteTime": {
     "end_time": "2020-04-15T03:01:05.514961Z",
     "start_time": "2020-04-15T03:01:05.459875Z"
    }
   },
   "outputs": [
    {
     "data": {
      "text/plain": [
       "20892"
      ]
     },
     "execution_count": 30,
     "metadata": {},
     "output_type": "execute_result"
    }
   ],
   "source": [
    "train_data_tmp['user_id'].nunique()"
   ]
  },
  {
   "cell_type": "code",
   "execution_count": null,
   "metadata": {},
   "outputs": [],
   "source": []
  }
 ],
 "metadata": {
  "kernelspec": {
   "display_name": "Python [conda env:dm] *",
   "language": "python",
   "name": "conda-env-dm-py"
  },
  "language_info": {
   "codemirror_mode": {
    "name": "ipython",
    "version": 3
   },
   "file_extension": ".py",
   "mimetype": "text/x-python",
   "name": "python",
   "nbconvert_exporter": "python",
   "pygments_lexer": "ipython3",
   "version": "3.6.9"
  }
 },
 "nbformat": 4,
 "nbformat_minor": 2
}
